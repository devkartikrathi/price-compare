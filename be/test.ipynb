{
 "cells": [
  {
   "cell_type": "code",
   "execution_count": 21,
   "metadata": {},
   "outputs": [
    {
     "name": "stdout",
     "output_type": "stream",
     "text": [
      "403\n"
     ]
    }
   ],
   "source": [
    "import requests\n",
    "\n",
    "url = \"https://blinkit.com/v1/layout/search?q=milk&search_type=type_to_search\"\n",
    "\n",
    "payload = \"\"\n",
    "headers = {\n",
    "  'Cookie': '__cfruid=3991a1b482f898a862f2e3a0d773791fd3a88ea0-1751211334; _cfuvid=HiDxqOhGGKCTfH59i0TnvT5z4mU3fN7iJewGjqQeE0U-1751211334210-0.0.1.1-604800000; __cf_bm=xuwDNH9VDyOwujM2wZU.kV9j42xmHDnpFcmAWmI8r08-1751269511-1.0.1.1-bN6Y6NQmb3Z8MIlCU8D8zSVjF_uSAD04goP6v_a6kfFPwE1uoFj23X0fZEMwwKwQHKcplM53Njqp4nF2JYqpLwhpaTC1a1xIAXvSP_Idcbg',\n",
    "  'Lat': '28.6846179',\n",
    "  'Lon': '77.2684534'\n",
    "}\n",
    "\n",
    "response = requests.request(\"POST\", url, headers=headers, data=payload)\n",
    "\n",
    "print(response.status_code)\n"
   ]
  },
  {
   "cell_type": "code",
   "execution_count": null,
   "metadata": {},
   "outputs": [],
   "source": []
  },
  {
   "cell_type": "code",
   "execution_count": null,
   "metadata": {},
   "outputs": [],
   "source": []
  }
 ],
 "metadata": {
  "kernelspec": {
   "display_name": ".venv",
   "language": "python",
   "name": "python3"
  },
  "language_info": {
   "codemirror_mode": {
    "name": "ipython",
    "version": 3
   },
   "file_extension": ".py",
   "mimetype": "text/x-python",
   "name": "python",
   "nbconvert_exporter": "python",
   "pygments_lexer": "ipython3",
   "version": "3.10.11"
  }
 },
 "nbformat": 4,
 "nbformat_minor": 2
}
